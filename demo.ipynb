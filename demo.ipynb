{
 "cells": [
  {
   "cell_type": "code",
   "execution_count": 5,
   "metadata": {},
   "outputs": [],
   "source": [
    "import Neilyst\n",
    "\n",
    "data_1h = Neilyst.get_klines('BTC/USDT', '2023-01-01T00:00:00Z', '2023-12-30T00:00:00Z', timeframe='1h')\n",
    "data_30m = Neilyst.get_klines('BTC/USDT', '2023-01-01T00:00:00Z', '2023-12-30T00:00:00Z', timeframe='30m')\n",
    "data_15m = Neilyst.get_klines('BTC/USDT', '2023-01-01T00:00:00Z', '2023-12-30T00:00:00Z', timeframe='15m')\n",
    "data_5m = Neilyst.get_klines('BTC/USDT', '2023-01-01T00:00:00Z', '2023-12-30T00:00:00Z', timeframe='5m')\n",
    "data_1m = Neilyst.get_klines('BTC/USDT', '2023-01-01T00:00:00Z', '2023-12-30T00:00:00Z', timeframe='1m')"
   ]
  },
  {
   "cell_type": "code",
   "execution_count": 6,
   "metadata": {},
   "outputs": [],
   "source": [
    "# 计算指标\n",
    "\n",
    "indicators_1h = Neilyst.get_indicators(data_1h, 'rsi', 'sma20', 'ema9')\n",
    "indicators_30m = Neilyst.get_indicators(data_30m, 'rsi', 'sma20', 'ema9')\n",
    "indicators_15m = Neilyst.get_indicators(data_15m, 'rsi', 'sma20', 'ema9')\n",
    "indicators_5m= Neilyst.get_indicators(data_5m, 'rsi', 'sma20', 'ema9')\n",
    "indicators_1m= Neilyst.get_indicators(data_1m, 'rsi', 'sma20', 'ema9')"
   ]
  },
  {
   "cell_type": "code",
   "execution_count": 7,
   "metadata": {},
   "outputs": [],
   "source": [
    "class MultiSignalStrategy(Neilyst.Strategy):\n",
    "    def __init__(self, total_balance, trading_fee_ratio, slippage_ratio, data=None, indicators=None):\n",
    "        super().__init__(total_balance, trading_fee_ratio, slippage_ratio, data, indicators)\n",
    "        self.take_profit_ratio = 0.2 #止盈比例\n",
    "        self.stop_loss_ratio = -0.1 #止损比例\n",
    "    \n",
    "    def run(self, date, price_row, current_pos, current_balance):\n",
    "        recent_data_15m = self.get_recent_data(date, 2, data_15m, indicators_15m)\n",
    "        signal = None\n",
    "        \n",
    "        if len(recent_data_15m) >= 2:\n",
    "            ema_15 = indicators_15m.iloc[0]['ema9']\n",
    "            ma_15 = indicators_15m.iloc[0]['sma20']\n",
    "\n",
    "            prev_ema_15 = indicators_15m.iloc[-1]['ema9']\n",
    "            prev_ma_15 = indicators_15m.iloc[-1]['sma20']\n",
    "\n",
    "            if current_pos.amount > 0:\n",
    "                # 此时有仓位，考虑平仓过程\n",
    "                # 固定止盈止损、或者布林带止盈，ma止损\n",
    "                open_total_price = current_pos.open_price * current_pos.amount\n",
    "                if (current_pos.float_profit / open_total_price) >= self.take_profit_ratio:\n",
    "                    #止盈\n",
    "                    signal = Neilyst.Signal('close', price_row['close'], current_pos.amount)\n",
    "                elif (current_pos.float_profit / open_total_price) <= self.stop_loss_ratio:\n",
    "                    #止损\n",
    "                    signal = Neilyst.Signal('close', price_row['close'], current_pos.amount)\n",
    "\n",
    "            else:\n",
    "                # 没有仓位，考虑开仓信号\n",
    "                # 加权信号处理\n",
    "                index = 0\n",
    "                if (ema_15 > ma_15) and (prev_ema_15 < prev_ma_15):\n",
    "                    # 多信号\n",
    "                    index = 1\n",
    "                if (ema_15 < ma_15) and (prev_ema_15 > prev_ma_15):\n",
    "                    index = -1\n",
    "\n",
    "                # 根据信号计算仓位\n",
    "                pos = abs(current_balance / price_row['close'] * index)\n",
    "\n",
    "                # 开仓\n",
    "                if index > 0:\n",
    "                    signal = Neilyst.Signal('long', price_row['close'], pos)\n",
    "                elif index < 0:\n",
    "                    signal = Neilyst.Signal('short', price_row['close'], pos)\n",
    "\n",
    "        return signal\n",
    "    \n",
    "    # 仓位管理，考虑写入框架的策略：网格\n",
    "    def pos_management(self):\n",
    "        pass"
   ]
  },
  {
   "cell_type": "code",
   "execution_count": 8,
   "metadata": {},
   "outputs": [
    {
     "name": "stderr",
     "output_type": "stream",
     "text": [
      "100%|██████████| 220320/220320 [03:41<00:00, 995.23it/s] "
     ]
    },
    {
     "name": "stdout",
     "output_type": "stream",
     "text": [
      "总收益: 34225.70205752058\n",
      "总胜率: 0.6666666666666666\n",
      "盈亏比: 1.5139648107903683\n",
      "最大回撤: 9639.940206081461\n",
      "年化收益率: 398.08017444015576%\n",
      "夏普比率: 8.123838784544366\n"
     ]
    },
    {
     "name": "stderr",
     "output_type": "stream",
     "text": [
      "\n"
     ]
    },
    {
     "data": {
      "text/plain": [
       "{'total_pnl': 34225.70205752058,\n",
       " 'win_rate': 0.6666666666666666,\n",
       " 'profit_loss_ratio': 1.5139648107903683,\n",
       " 'max_drawdown': 9639.940206081461,\n",
       " 'annual_return': 3.9808017444015578,\n",
       " 'sharpe_ratio': 8.123838784544366}"
      ]
     },
     "execution_count": 8,
     "metadata": {},
     "output_type": "execute_result"
    }
   ],
   "source": [
    "init_balance = 50000\n",
    "strategy = MultiSignalStrategy(init_balance, 0, 0, None, None)\n",
    "result = Neilyst.backtest('BTC/USDT', '2023-01-01T00:00:00Z', '2023-12-30T00:00:00Z', strategy)\n",
    "evaluation = Neilyst.evaluate_strategy(result, init_balance)\n",
    "\n",
    "evaluation\n"
   ]
  },
  {
   "cell_type": "code",
   "execution_count": 9,
   "metadata": {},
   "outputs": [
    {
     "ename": "AttributeError",
     "evalue": "Axes.set() got an unexpected keyword argument 'figsize'",
     "output_type": "error",
     "traceback": [
      "\u001b[0;31m---------------------------------------------------------------------------\u001b[0m",
      "\u001b[0;31mAttributeError\u001b[0m                            Traceback (most recent call last)",
      "Cell \u001b[0;32mIn[9], line 1\u001b[0m\n\u001b[0;32m----> 1\u001b[0m \u001b[43mNeilyst\u001b[49m\u001b[38;5;241;43m.\u001b[39;49m\u001b[43mshow_pnl\u001b[49m\u001b[43m(\u001b[49m\u001b[43mdata_15m\u001b[49m\u001b[43m,\u001b[49m\u001b[43m \u001b[49m\u001b[43mindicators_15m\u001b[49m\u001b[43m,\u001b[49m\u001b[43m \u001b[49m\u001b[43mresult\u001b[49m\u001b[43m,\u001b[49m\u001b[43m \u001b[49m\u001b[43minit_balance\u001b[49m\u001b[43m)\u001b[49m\n",
      "File \u001b[0;32m~/Code/Neilyst/Neilyst/visualize.py:12\u001b[0m, in \u001b[0;36mshow_pnl\u001b[0;34m(data, indicators, result, init_balance)\u001b[0m\n\u001b[1;32m      9\u001b[0m df_result[\u001b[38;5;124m'\u001b[39m\u001b[38;5;124mcumulative_pnl\u001b[39m\u001b[38;5;124m'\u001b[39m] \u001b[38;5;241m=\u001b[39m df_result[\u001b[38;5;124m'\u001b[39m\u001b[38;5;124mpnl\u001b[39m\u001b[38;5;124m'\u001b[39m]\u001b[38;5;241m.\u001b[39mcumsum() \u001b[38;5;241m+\u001b[39m init_balance\n\u001b[1;32m     11\u001b[0m \u001b[38;5;66;03m# 设置图像属性\u001b[39;00m\n\u001b[0;32m---> 12\u001b[0m fig, ax1 \u001b[38;5;241m=\u001b[39m \u001b[43mplt\u001b[49m\u001b[38;5;241;43m.\u001b[39;49m\u001b[43msubplot\u001b[49m\u001b[43m(\u001b[49m\u001b[43mfigsize\u001b[49m\u001b[38;5;241;43m=\u001b[39;49m\u001b[43m(\u001b[49m\u001b[38;5;241;43m15\u001b[39;49m\u001b[43m,\u001b[49m\u001b[43m \u001b[49m\u001b[38;5;241;43m8\u001b[39;49m\u001b[43m)\u001b[49m\u001b[43m)\u001b[49m\n\u001b[1;32m     14\u001b[0m \u001b[38;5;66;03m# 价格曲线\u001b[39;00m\n\u001b[1;32m     15\u001b[0m color \u001b[38;5;241m=\u001b[39m \u001b[38;5;124m'\u001b[39m\u001b[38;5;124mtab:blue\u001b[39m\u001b[38;5;124m'\u001b[39m\n",
      "File \u001b[0;32m~/opt/anaconda3/envs/neilyst/lib/python3.10/site-packages/matplotlib/pyplot.py:1338\u001b[0m, in \u001b[0;36msubplot\u001b[0;34m(*args, **kwargs)\u001b[0m\n\u001b[1;32m   1335\u001b[0m             \u001b[38;5;28;01mbreak\u001b[39;00m\n\u001b[1;32m   1336\u001b[0m \u001b[38;5;28;01melse\u001b[39;00m:\n\u001b[1;32m   1337\u001b[0m     \u001b[38;5;66;03m# we have exhausted the known Axes and none match, make a new one!\u001b[39;00m\n\u001b[0;32m-> 1338\u001b[0m     ax \u001b[38;5;241m=\u001b[39m \u001b[43mfig\u001b[49m\u001b[38;5;241;43m.\u001b[39;49m\u001b[43madd_subplot\u001b[49m\u001b[43m(\u001b[49m\u001b[38;5;241;43m*\u001b[39;49m\u001b[43margs\u001b[49m\u001b[43m,\u001b[49m\u001b[43m \u001b[49m\u001b[38;5;241;43m*\u001b[39;49m\u001b[38;5;241;43m*\u001b[39;49m\u001b[43mkwargs\u001b[49m\u001b[43m)\u001b[49m\n\u001b[1;32m   1340\u001b[0m fig\u001b[38;5;241m.\u001b[39msca(ax)\n\u001b[1;32m   1342\u001b[0m axes_to_delete \u001b[38;5;241m=\u001b[39m [other \u001b[38;5;28;01mfor\u001b[39;00m other \u001b[38;5;129;01min\u001b[39;00m fig\u001b[38;5;241m.\u001b[39maxes\n\u001b[1;32m   1343\u001b[0m                   \u001b[38;5;28;01mif\u001b[39;00m other \u001b[38;5;241m!=\u001b[39m ax \u001b[38;5;129;01mand\u001b[39;00m ax\u001b[38;5;241m.\u001b[39mbbox\u001b[38;5;241m.\u001b[39mfully_overlaps(other\u001b[38;5;241m.\u001b[39mbbox)]\n",
      "File \u001b[0;32m~/opt/anaconda3/envs/neilyst/lib/python3.10/site-packages/matplotlib/figure.py:768\u001b[0m, in \u001b[0;36mFigureBase.add_subplot\u001b[0;34m(self, *args, **kwargs)\u001b[0m\n\u001b[1;32m    765\u001b[0m         args \u001b[38;5;241m=\u001b[39m \u001b[38;5;28mtuple\u001b[39m(\u001b[38;5;28mmap\u001b[39m(\u001b[38;5;28mint\u001b[39m, \u001b[38;5;28mstr\u001b[39m(args[\u001b[38;5;241m0\u001b[39m])))\n\u001b[1;32m    766\u001b[0m     projection_class, pkw \u001b[38;5;241m=\u001b[39m \u001b[38;5;28mself\u001b[39m\u001b[38;5;241m.\u001b[39m_process_projection_requirements(\n\u001b[1;32m    767\u001b[0m         \u001b[38;5;241m*\u001b[39margs, \u001b[38;5;241m*\u001b[39m\u001b[38;5;241m*\u001b[39mkwargs)\n\u001b[0;32m--> 768\u001b[0m     ax \u001b[38;5;241m=\u001b[39m \u001b[43mprojection_class\u001b[49m\u001b[43m(\u001b[49m\u001b[38;5;28;43mself\u001b[39;49m\u001b[43m,\u001b[49m\u001b[43m \u001b[49m\u001b[38;5;241;43m*\u001b[39;49m\u001b[43margs\u001b[49m\u001b[43m,\u001b[49m\u001b[43m \u001b[49m\u001b[38;5;241;43m*\u001b[39;49m\u001b[38;5;241;43m*\u001b[39;49m\u001b[43mpkw\u001b[49m\u001b[43m)\u001b[49m\n\u001b[1;32m    769\u001b[0m     key \u001b[38;5;241m=\u001b[39m (projection_class, pkw)\n\u001b[1;32m    770\u001b[0m \u001b[38;5;28;01mreturn\u001b[39;00m \u001b[38;5;28mself\u001b[39m\u001b[38;5;241m.\u001b[39m_add_axes_internal(ax, key)\n",
      "File \u001b[0;32m~/opt/anaconda3/envs/neilyst/lib/python3.10/site-packages/matplotlib/axes/_base.py:697\u001b[0m, in \u001b[0;36m_AxesBase.__init__\u001b[0;34m(self, fig, facecolor, frameon, sharex, sharey, label, xscale, yscale, box_aspect, *args, **kwargs)\u001b[0m\n\u001b[1;32m    694\u001b[0m \u001b[38;5;28;01mif\u001b[39;00m yscale:\n\u001b[1;32m    695\u001b[0m     \u001b[38;5;28mself\u001b[39m\u001b[38;5;241m.\u001b[39mset_yscale(yscale)\n\u001b[0;32m--> 697\u001b[0m \u001b[38;5;28;43mself\u001b[39;49m\u001b[38;5;241;43m.\u001b[39;49m\u001b[43m_internal_update\u001b[49m\u001b[43m(\u001b[49m\u001b[43mkwargs\u001b[49m\u001b[43m)\u001b[49m\n\u001b[1;32m    699\u001b[0m \u001b[38;5;28;01mfor\u001b[39;00m name, axis \u001b[38;5;129;01min\u001b[39;00m \u001b[38;5;28mself\u001b[39m\u001b[38;5;241m.\u001b[39m_axis_map\u001b[38;5;241m.\u001b[39mitems():\n\u001b[1;32m    700\u001b[0m     axis\u001b[38;5;241m.\u001b[39mcallbacks\u001b[38;5;241m.\u001b[39m_connect_picklable(\n\u001b[1;32m    701\u001b[0m         \u001b[38;5;124m'\u001b[39m\u001b[38;5;124munits\u001b[39m\u001b[38;5;124m'\u001b[39m, \u001b[38;5;28mself\u001b[39m\u001b[38;5;241m.\u001b[39m_unit_change_handler(name))\n",
      "File \u001b[0;32m~/opt/anaconda3/envs/neilyst/lib/python3.10/site-packages/matplotlib/artist.py:1223\u001b[0m, in \u001b[0;36mArtist._internal_update\u001b[0;34m(self, kwargs)\u001b[0m\n\u001b[1;32m   1216\u001b[0m \u001b[38;5;28;01mdef\u001b[39;00m \u001b[38;5;21m_internal_update\u001b[39m(\u001b[38;5;28mself\u001b[39m, kwargs):\n\u001b[1;32m   1217\u001b[0m \u001b[38;5;250m    \u001b[39m\u001b[38;5;124;03m\"\"\"\u001b[39;00m\n\u001b[1;32m   1218\u001b[0m \u001b[38;5;124;03m    Update artist properties without prenormalizing them, but generating\u001b[39;00m\n\u001b[1;32m   1219\u001b[0m \u001b[38;5;124;03m    errors as if calling `set`.\u001b[39;00m\n\u001b[1;32m   1220\u001b[0m \n\u001b[1;32m   1221\u001b[0m \u001b[38;5;124;03m    The lack of prenormalization is to maintain backcompatibility.\u001b[39;00m\n\u001b[1;32m   1222\u001b[0m \u001b[38;5;124;03m    \"\"\"\u001b[39;00m\n\u001b[0;32m-> 1223\u001b[0m     \u001b[38;5;28;01mreturn\u001b[39;00m \u001b[38;5;28;43mself\u001b[39;49m\u001b[38;5;241;43m.\u001b[39;49m\u001b[43m_update_props\u001b[49m\u001b[43m(\u001b[49m\n\u001b[1;32m   1224\u001b[0m \u001b[43m        \u001b[49m\u001b[43mkwargs\u001b[49m\u001b[43m,\u001b[49m\u001b[43m \u001b[49m\u001b[38;5;124;43m\"\u001b[39;49m\u001b[38;5;132;43;01m{cls.__name__}\u001b[39;49;00m\u001b[38;5;124;43m.set() got an unexpected keyword argument \u001b[39;49m\u001b[38;5;124;43m\"\u001b[39;49m\n\u001b[1;32m   1225\u001b[0m \u001b[43m        \u001b[49m\u001b[38;5;124;43m\"\u001b[39;49m\u001b[38;5;132;43;01m{prop_name!r}\u001b[39;49;00m\u001b[38;5;124;43m\"\u001b[39;49m\u001b[43m)\u001b[49m\n",
      "File \u001b[0;32m~/opt/anaconda3/envs/neilyst/lib/python3.10/site-packages/matplotlib/artist.py:1197\u001b[0m, in \u001b[0;36mArtist._update_props\u001b[0;34m(self, props, errfmt)\u001b[0m\n\u001b[1;32m   1195\u001b[0m             func \u001b[38;5;241m=\u001b[39m \u001b[38;5;28mgetattr\u001b[39m(\u001b[38;5;28mself\u001b[39m, \u001b[38;5;124mf\u001b[39m\u001b[38;5;124m\"\u001b[39m\u001b[38;5;124mset_\u001b[39m\u001b[38;5;132;01m{\u001b[39;00mk\u001b[38;5;132;01m}\u001b[39;00m\u001b[38;5;124m\"\u001b[39m, \u001b[38;5;28;01mNone\u001b[39;00m)\n\u001b[1;32m   1196\u001b[0m             \u001b[38;5;28;01mif\u001b[39;00m \u001b[38;5;129;01mnot\u001b[39;00m \u001b[38;5;28mcallable\u001b[39m(func):\n\u001b[0;32m-> 1197\u001b[0m                 \u001b[38;5;28;01mraise\u001b[39;00m \u001b[38;5;167;01mAttributeError\u001b[39;00m(\n\u001b[1;32m   1198\u001b[0m                     errfmt\u001b[38;5;241m.\u001b[39mformat(\u001b[38;5;28mcls\u001b[39m\u001b[38;5;241m=\u001b[39m\u001b[38;5;28mtype\u001b[39m(\u001b[38;5;28mself\u001b[39m), prop_name\u001b[38;5;241m=\u001b[39mk))\n\u001b[1;32m   1199\u001b[0m             ret\u001b[38;5;241m.\u001b[39mappend(func(v))\n\u001b[1;32m   1200\u001b[0m \u001b[38;5;28;01mif\u001b[39;00m ret:\n",
      "\u001b[0;31mAttributeError\u001b[0m: Axes.set() got an unexpected keyword argument 'figsize'"
     ]
    },
    {
     "data": {
      "text/plain": [
       "<Figure size 640x480 with 0 Axes>"
      ]
     },
     "metadata": {},
     "output_type": "display_data"
    }
   ],
   "source": [
    "Neilyst.show_pnl(data_15m, indicators_15m, result, init_balance)"
   ]
  }
 ],
 "metadata": {
  "kernelspec": {
   "display_name": "neilyst",
   "language": "python",
   "name": "python3"
  },
  "language_info": {
   "codemirror_mode": {
    "name": "ipython",
    "version": 3
   },
   "file_extension": ".py",
   "mimetype": "text/x-python",
   "name": "python",
   "nbconvert_exporter": "python",
   "pygments_lexer": "ipython3",
   "version": "3.10.13"
  }
 },
 "nbformat": 4,
 "nbformat_minor": 2
}
